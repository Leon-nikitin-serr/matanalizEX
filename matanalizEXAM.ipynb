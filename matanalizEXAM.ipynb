{
 "cells": [
  {
   "cell_type": "markdown",
   "id": "bcdcf008-37f6-4c7f-b817-869be57ec070",
   "metadata": {},
   "source": [
    "# Задание 1"
   ]
  },
  {
   "cell_type": "code",
   "execution_count": 13,
   "id": "23e631d1-bc88-44ea-b630-89c74f6239a5",
   "metadata": {},
   "outputs": [
    {
     "ename": "SyntaxError",
     "evalue": "invalid syntax (1561992320.py, line 1)",
     "output_type": "error",
     "traceback": [
      "\u001b[1;36m  Cell \u001b[1;32mIn[13], line 1\u001b[1;36m\u001b[0m\n\u001b[1;33m    <img src=\"https://drive.google.com/file/d/1In390Z8arwbgWmBlutZ-J8WczrK3ECt2/view?usp=sharing\" alt=\"Image from Google Drive\" />\u001b[0m\n\u001b[1;37m    ^\u001b[0m\n\u001b[1;31mSyntaxError\u001b[0m\u001b[1;31m:\u001b[0m invalid syntax\n"
     ]
    }
   ],
   "source": [
    "<img src=\"https://drive.google.com/file/d/1In390Z8arwbgWmBlutZ-J8WczrK3ECt2/view?usp=sharing\" alt=\"Image from Google Drive\" />"
   ]
  },
  {
   "cell_type": "code",
   "execution_count": 12,
   "id": "bcb3ff4d-4521-4422-a42b-f94144a6c5bb",
   "metadata": {},
   "outputs": [
    {
     "data": {
      "text/html": [
       "\n",
       "<img src=\"https://drive.google.com/file/d/1In390Z8arwbgWmBlutZ-J8WczrK3ECt2/view?usp=sharing\" alt=\"Image from Google Drive\" style=\"width:500px;\">\n"
      ],
      "text/plain": [
       "<IPython.core.display.HTML object>"
      ]
     },
     "metadata": {},
     "output_type": "display_data"
    }
   ],
   "source": [
    "from IPython.display import display, HTML\n",
    "\n",
    "# HTML-код для изображения\n",
    "html_code = \"\"\"\n",
    "<img src=\"https://drive.google.com/file/d/1In390Z8arwbgWmBlutZ-J8WczrK3ECt2/view?usp=sharing\" alt=\"Image from Google Drive\" style=\"width:500px;\">\n",
    "\"\"\"\n",
    "\n",
    "display(HTML(html_code))"
   ]
  },
  {
   "cell_type": "code",
   "execution_count": 15,
   "id": "54d2b339-e9fd-40bc-88cd-6dd50944988b",
   "metadata": {},
   "outputs": [
    {
     "name": "stderr",
     "output_type": "stream",
     "text": [
      "\".[describe].\" ­Ґ пў«пҐвбп ў­гваҐ­­Ґ© Ё«Ё ў­Ґи­Ґ©\n",
      "Є®¬ ­¤®©, ЁбЇ®«­пҐ¬®© Їа®Ја ¬¬®© Ё«Ё Ї ЄҐв­л¬ д ©«®¬.\n"
     ]
    }
   ],
   "source": [
    "!.[describe].(https://drive.google.com/file/d/1In390Z8arwbgWmBlutZ-J8WczrK3ECt2/view?usp=sharing)"
   ]
  },
  {
   "cell_type": "code",
   "execution_count": null,
   "id": "38ac4eb8-d8b0-4ff4-ab02-f1591fa4b8ba",
   "metadata": {},
   "outputs": [],
   "source": []
  }
 ],
 "metadata": {
  "kernelspec": {
   "display_name": "Python 3 (ipykernel)",
   "language": "python",
   "name": "python3"
  },
  "language_info": {
   "codemirror_mode": {
    "name": "ipython",
    "version": 3
   },
   "file_extension": ".py",
   "mimetype": "text/x-python",
   "name": "python",
   "nbconvert_exporter": "python",
   "pygments_lexer": "ipython3",
   "version": "3.12.7"
  }
 },
 "nbformat": 4,
 "nbformat_minor": 5
}
